{
 "cells": [
  {
   "cell_type": "code",
   "execution_count": 1,
   "metadata": {},
   "outputs": [],
   "source": [
    "import numpy as np\n",
    "\n",
    "# Define the L1-norm function |x|\n",
    "def l1_norm(x):\n",
    "    return np.abs(x)\n",
    "\n",
    "# Define the subgradient of the L1-norm at a given point x\n",
    "def subgradient_l1_norm(x):\n",
    "    if x > 0:\n",
    "        return 1.0\n",
    "    elif x < 0:\n",
    "        return -1.0\n",
    "    else:\n",
    "        # Return any value between -1 and 1 as a subgradient at x=0\n",
    "        return np.random.uniform(-1, 1)\n",
    "\n",
    "\n"
   ]
  },
  {
   "cell_type": "code",
   "execution_count": 2,
   "metadata": {},
   "outputs": [
    {
     "name": "stdout",
     "output_type": "stream",
     "text": [
      "Iteration 1: x = 1.9, L1-norm = 1.9\n",
      "Iteration 2: x = 1.7999999999999998, L1-norm = 1.7999999999999998\n",
      "Iteration 3: x = 1.6999999999999997, L1-norm = 1.6999999999999997\n",
      "Iteration 4: x = 1.5999999999999996, L1-norm = 1.5999999999999996\n",
      "Iteration 5: x = 1.4999999999999996, L1-norm = 1.4999999999999996\n",
      "Iteration 6: x = 1.3999999999999995, L1-norm = 1.3999999999999995\n",
      "Iteration 7: x = 1.2999999999999994, L1-norm = 1.2999999999999994\n",
      "Iteration 8: x = 1.1999999999999993, L1-norm = 1.1999999999999993\n",
      "Iteration 9: x = 1.0999999999999992, L1-norm = 1.0999999999999992\n",
      "Iteration 10: x = 0.9999999999999992, L1-norm = 0.9999999999999992\n",
      "Optimal x: 0.9999999999999992\n",
      "L1-norm at optimal x: 0.9999999999999992\n"
     ]
    }
   ],
   "source": [
    "# Initialize the starting point for optimization\n",
    "x = 2.0\n",
    "\n",
    "# Set hyperparameters\n",
    "learning_rate = 0.1\n",
    "num_iterations = 10\n",
    "\n",
    "# Perform gradient descent using surrogate gradients\n",
    "for i in range(num_iterations):\n",
    "    gradient = subgradient_l1_norm(x)\n",
    "    x -= learning_rate * gradient\n",
    "    print(f\"Iteration {i+1}: x = {x}, L1-norm = {l1_norm(x)}\")\n",
    "\n",
    "print(\"Optimal x:\", x)\n",
    "print(\"L1-norm at optimal x:\", l1_norm(x))"
   ]
  },
  {
   "cell_type": "code",
   "execution_count": 5,
   "metadata": {},
   "outputs": [],
   "source": [
    "import numpy as np\n",
    "from scipy.linalg import expm\n",
    "\n",
    "def create_matrix_with_determinant(d):\n",
    "    # Create a random 3x3 matrix\n",
    "    A = np.random.rand(3, 3)\n",
    "    \n",
    "    # Use the matrix exponential to ensure a positive determinant\n",
    "    A = expm(A - A.T)\n",
    "    \n",
    "    # Scale the matrix to achieve the desired determinant\n",
    "    determinant_A = np.linalg.det(A)\n",
    "    scaling_factor = (d / determinant_A) ** (1/3)\n",
    "    A = A * scaling_factor\n",
    "    \n",
    "    return A\n",
    "\n",
    "\n"
   ]
  },
  {
   "cell_type": "code",
   "execution_count": 6,
   "metadata": {},
   "outputs": [
    {
     "name": "stdout",
     "output_type": "stream",
     "text": [
      "Matrix with Determinant 10.0\n",
      "[[ 1.98824264 -0.34237828 -0.75581556]\n",
      " [ 0.58885918  1.96483011  0.65899646]\n",
      " [ 0.58457241 -0.81474449  1.90684434]]\n",
      "Determinant of the generated matrix: 10.000000000000002\n"
     ]
    }
   ],
   "source": [
    "# Specify the desired determinant\n",
    "desired_determinant = 10.0\n",
    "\n",
    "# Generate the 3x3 matrix with the desired determinant\n",
    "resulting_matrix = create_matrix_with_determinant(desired_determinant)\n",
    "\n",
    "print(\"Matrix with Determinant\", desired_determinant)\n",
    "print(resulting_matrix)\n",
    "print(\"Determinant of the generated matrix:\", np.linalg.det(resulting_matrix))"
   ]
  },
  {
   "cell_type": "code",
   "execution_count": null,
   "metadata": {},
   "outputs": [],
   "source": []
  }
 ],
 "metadata": {
  "kernelspec": {
   "display_name": "py396",
   "language": "python",
   "name": "python3"
  },
  "language_info": {
   "codemirror_mode": {
    "name": "ipython",
    "version": 3
   },
   "file_extension": ".py",
   "mimetype": "text/x-python",
   "name": "python",
   "nbconvert_exporter": "python",
   "pygments_lexer": "ipython3",
   "version": "3.9.7"
  }
 },
 "nbformat": 4,
 "nbformat_minor": 2
}
