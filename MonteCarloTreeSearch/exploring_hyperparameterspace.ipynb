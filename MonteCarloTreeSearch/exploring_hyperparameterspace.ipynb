{
 "cells": [
  {
   "cell_type": "markdown",
   "metadata": {},
   "source": [
    "For actual usage \"simulate_performance\" need to be modified according to application. It can be to maximize validation accuracy in most of the applications. And of course hyperparameters can be expanded as per requirement. Just for illustrative purpose performance is just sum of selected hyperparameters."
   ]
  },
  {
   "cell_type": "markdown",
   "metadata": {},
   "source": [
    "For Fun : \n",
    "1. Change iterations\n",
    "2. Run last cell multiple times // To feel how choice matters"
   ]
  },
  {
   "cell_type": "code",
   "execution_count": 3,
   "metadata": {},
   "outputs": [],
   "source": [
    "import random\n",
    "from collections import defaultdict\n",
    "from math import log"
   ]
  },
  {
   "cell_type": "code",
   "execution_count": 8,
   "metadata": {},
   "outputs": [],
   "source": [
    "class Node:\n",
    "    def __init__(self, hyperparameters, parent=None):\n",
    "        self.hyperparameters = hyperparameters\n",
    "        self.parent = parent\n",
    "        self.children = []\n",
    "        self.visits = 0\n",
    "        self.value = 0  "
   ]
  },
  {
   "cell_type": "code",
   "execution_count": 9,
   "metadata": {},
   "outputs": [],
   "source": [
    "def simulate_performance(hyperparameters):\n",
    "    return sum(hyperparameters.values())"
   ]
  },
  {
   "cell_type": "code",
   "execution_count": 10,
   "metadata": {},
   "outputs": [],
   "source": [
    "def select_node(node):\n",
    "    # Select node with highest UCB value\n",
    "    best_score = float('-inf')\n",
    "    best_child = None\n",
    "    for child in node.children:\n",
    "        if child.visits == 0:\n",
    "            ucb_value = float('inf')\n",
    "        else:\n",
    "            ucb_value = child.value / child.visits + 2 * (2 * log(node.visits) / child.visits) ** 0.5\n",
    "        \n",
    "        if ucb_value > best_score:\n",
    "            best_score = ucb_value\n",
    "            best_child = child\n",
    "    return best_child"
   ]
  },
  {
   "cell_type": "code",
   "execution_count": 11,
   "metadata": {},
   "outputs": [],
   "source": [
    "def expand_node(node, hyperparameters_space):\n",
    "    new_hyperparameters = node.hyperparameters.copy()\n",
    "    for hp, values in hyperparameters_space.items():\n",
    "        if random.random() < 0.5:  \n",
    "            new_hyperparameters[hp] = random.choice(values)\n",
    "    \n",
    "    new_node = Node(new_hyperparameters, parent=node)\n",
    "    node.children.append(new_node)\n",
    "    return new_node\n",
    "\n",
    "def backpropagate(node, value):\n",
    "    while node is not None:\n",
    "        node.visits += 1\n",
    "        node.value += value\n",
    "        node = node.parent"
   ]
  },
  {
   "cell_type": "code",
   "execution_count": 18,
   "metadata": {},
   "outputs": [],
   "source": [
    "def MCTS(hyperparameters_space, iterations=10000):\n",
    "    root = Node({hp: random.choice(values) for hp, values in hyperparameters_space.items()})\n",
    "    \n",
    "    for _ in range(iterations):\n",
    "        node = root\n",
    "        while node.children:\n",
    "            node = select_node(node)\n",
    "        if node.visits > 0:\n",
    "            node = expand_node(node, hyperparameters_space)\n",
    "        performance = simulate_performance(node.hyperparameters)\n",
    "        backpropagate(node, performance)\n",
    "    \n",
    "    best_node = max(root.children, key=lambda x: x.value / x.visits if x.visits else 0)\n",
    "    return best_node.hyperparameters"
   ]
  },
  {
   "cell_type": "code",
   "execution_count": 19,
   "metadata": {},
   "outputs": [],
   "source": [
    "hyperparameters_space = {\n",
    "    \"learning_rate\": [0.001, 0.01, 0.1],\n",
    "    \"batch_size\": [16, 32, 64],\n",
    "    \"num_layers\": [1, 2, 3]\n",
    "}"
   ]
  },
  {
   "cell_type": "code",
   "execution_count": 21,
   "metadata": {},
   "outputs": [
    {
     "data": {
      "text/plain": [
       "{'learning_rate': 0.1, 'batch_size': 32, 'num_layers': 2}"
      ]
     },
     "execution_count": 21,
     "metadata": {},
     "output_type": "execute_result"
    }
   ],
   "source": [
    "best_hyperparameters = MCTS(hyperparameters_space, iterations=100)\n",
    "best_hyperparameters"
   ]
  }
 ],
 "metadata": {
  "kernelspec": {
   "display_name": "py396",
   "language": "python",
   "name": "python3"
  },
  "language_info": {
   "codemirror_mode": {
    "name": "ipython",
    "version": 3
   },
   "file_extension": ".py",
   "mimetype": "text/x-python",
   "name": "python",
   "nbconvert_exporter": "python",
   "pygments_lexer": "ipython3",
   "version": "3.9.7"
  }
 },
 "nbformat": 4,
 "nbformat_minor": 2
}
