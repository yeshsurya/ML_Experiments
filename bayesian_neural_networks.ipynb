{
 "cells": [
  {
   "cell_type": "code",
   "execution_count": 7,
   "metadata": {},
   "outputs": [],
   "source": [
    "import pymc3 as pm\n",
    "import numpy as np\n",
    "import theano.tensor as tt\n",
    "\n",
    "\n",
    "X_train = np.random.randn(100, 3)  # 100 samples, 3 features\n",
    "Y_train = np.random.randn(100)     # 100 target values\n",
    "\n"
   ]
  },
  {
   "cell_type": "code",
   "execution_count": 10,
   "metadata": {},
   "outputs": [
    {
     "name": "stderr",
     "output_type": "stream",
     "text": [
      "Auto-assigning NUTS sampler...\n",
      "Initializing NUTS using jitter+adapt_diag...\n",
      "Sequential sampling (2 chains in 1 job)\n",
      "NUTS: [w_1_2, w_in_1]\n"
     ]
    },
    {
     "data": {
      "text/html": [
       "\n",
       "<style>\n",
       "    /* Turns off some styling */\n",
       "    progress {\n",
       "        /* gets rid of default border in Firefox and Opera. */\n",
       "        border: none;\n",
       "        /* Needs to be in here for Safari polyfill so background images work as expected. */\n",
       "        background-size: auto;\n",
       "    }\n",
       "    progress:not([value]), progress:not([value])::-webkit-progress-bar {\n",
       "        background: repeating-linear-gradient(45deg, #7e7e7e, #7e7e7e 10px, #5c5c5c 10px, #5c5c5c 20px);\n",
       "    }\n",
       "    .progress-bar-interrupted, .progress-bar-interrupted::-webkit-progress-bar {\n",
       "        background: #F44336;\n",
       "    }\n",
       "</style>\n"
      ],
      "text/plain": [
       "<IPython.core.display.HTML object>"
      ]
     },
     "metadata": {},
     "output_type": "display_data"
    },
    {
     "data": {
      "text/html": [
       "\n",
       "    <div>\n",
       "      <progress value='837' class='' max='1500' style='width:300px; height:20px; vertical-align: middle;'></progress>\n",
       "      55.80% [837/1500 00:52&lt;00:41 Sampling chain 0, 0 divergences]\n",
       "    </div>\n",
       "    "
      ],
      "text/plain": [
       "<IPython.core.display.HTML object>"
      ]
     },
     "metadata": {},
     "output_type": "display_data"
    }
   ],
   "source": [
    "#The Bayesian Neural Network\n",
    "with pm.Model() as bnn_model:\n",
    "\n",
    "    weights_in_1 = pm.Normal('w_in_1', 0, sd=1, shape=(3, 2))\n",
    "    weights_1_2 = pm.Normal('w_1_2', 0, sd=1, shape=(2, 1))\n",
    "\n",
    "    act_1 = pm.math.tanh(pm.math.dot(X_train, weights_in_1))\n",
    "    act_2 = pm.math.dot(act_1, weights_1_2)\n",
    "\n",
    "\n",
    "    out = pm.Normal('out', mu=act_2[:,0], sd=1, observed=Y_train)\n",
    "\n",
    "  \n",
    "    trace = pm.sample(500, cores=1)\n",
    "\n",
    "\n",
    "# Posterior predictive checks\n",
    "with bnn_model:\n",
    "    ppc = pm.sample_posterior_predictive(trace)\n"
   ]
  }
 ],
 "metadata": {
  "kernelspec": {
   "display_name": "py396",
   "language": "python",
   "name": "python3"
  },
  "language_info": {
   "codemirror_mode": {
    "name": "ipython",
    "version": 3
   },
   "file_extension": ".py",
   "mimetype": "text/x-python",
   "name": "python",
   "nbconvert_exporter": "python",
   "pygments_lexer": "ipython3",
   "version": "3.9.7"
  }
 },
 "nbformat": 4,
 "nbformat_minor": 2
}
